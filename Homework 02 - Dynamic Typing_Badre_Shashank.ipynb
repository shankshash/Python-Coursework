{
 "cells": [
  {
   "cell_type": "markdown",
   "metadata": {},
   "source": [
    "# Homework 02 - Dynamic Typing "
   ]
  },
  {
   "cell_type": "markdown",
   "metadata": {},
   "source": [
    "### What type (int, string, etc) of object is a pointing at at the end of the code?  Why is this possibe?"
   ]
  },
  {
   "cell_type": "code",
   "execution_count": 3,
   "metadata": {},
   "outputs": [
    {
     "name": "stdout",
     "output_type": "stream",
     "text": [
      "<class 'float'>\n",
      "Last value assigned to a is of float data type and hence in the end of the code object a is float\n"
     ]
    }
   ],
   "source": [
    "a = 54\n",
    "a='test'\n",
    "a=5.4\n",
    "\n",
    "print(type(a))\n",
    "print(\"Last value assigned to a is of float data type and hence in the end of the code object a is float\")"
   ]
  },
  {
   "cell_type": "markdown",
   "metadata": {},
   "source": [
    "Last value assigned to a is of float data type and hence in the end of the code object a is float"
   ]
  },
  {
   "cell_type": "markdown",
   "metadata": {
    "collapsed": true
   },
   "source": [
    "### What is the fewest number of variables I need to delete to free up memory?"
   ]
  },
  {
   "cell_type": "code",
   "execution_count": 1,
   "metadata": {},
   "outputs": [
    {
     "name": "stdout",
     "output_type": "stream",
     "text": [
      "I need to delete both the variables as both a and b point at the same object\n"
     ]
    }
   ],
   "source": [
    "a=b=4\n",
    "\n",
    "del a\n",
    "del b\n",
    "print(\"I need to delete both the variables as both a and b point at the same object\")"
   ]
  },
  {
   "cell_type": "markdown",
   "metadata": {},
   "source": [
    "I need to delete both the variables as both a and b point at the same object"
   ]
  },
  {
   "cell_type": "markdown",
   "metadata": {},
   "source": [
    "### In your own words, why b is not equal to 'string'"
   ]
  },
  {
   "cell_type": "code",
   "execution_count": 5,
   "metadata": {},
   "outputs": [
    {
     "ename": "SyntaxError",
     "evalue": "Missing parentheses in call to 'print'. Did you mean print(b)? (<ipython-input-5-bb1c44e9ec45>, line 6)",
     "output_type": "error",
     "traceback": [
      "\u001b[1;36m  File \u001b[1;32m\"<ipython-input-5-bb1c44e9ec45>\"\u001b[1;36m, line \u001b[1;32m6\u001b[0m\n\u001b[1;33m    print b\u001b[0m\n\u001b[1;37m          ^\u001b[0m\n\u001b[1;31mSyntaxError\u001b[0m\u001b[1;31m:\u001b[0m Missing parentheses in call to 'print'. Did you mean print(b)?\n"
     ]
    }
   ],
   "source": [
    "a = 'test'\n",
    "b = a\n",
    "\n",
    "a = 'string'\n",
    "\n",
    "print b\n"
   ]
  },
  {
   "cell_type": "markdown",
   "metadata": {},
   "source": [
    "a is pointing to different object as its value is updated while b is still pointing to test"
   ]
  }
 ],
 "metadata": {
  "anaconda-cloud": {},
  "kernelspec": {
   "display_name": "Python 3",
   "language": "python",
   "name": "python3"
  },
  "language_info": {
   "codemirror_mode": {
    "name": "ipython",
    "version": 3
   },
   "file_extension": ".py",
   "mimetype": "text/x-python",
   "name": "python",
   "nbconvert_exporter": "python",
   "pygments_lexer": "ipython3",
   "version": "3.6.4"
  }
 },
 "nbformat": 4,
 "nbformat_minor": 2
}
