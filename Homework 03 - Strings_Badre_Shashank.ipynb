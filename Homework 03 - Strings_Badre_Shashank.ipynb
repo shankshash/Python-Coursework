{
 "cells": [
  {
   "cell_type": "markdown",
   "metadata": {
    "collapsed": true
   },
   "source": [
    "# Homework 03 - Strings"
   ]
  },
  {
   "cell_type": "markdown",
   "metadata": {},
   "source": [
    "### Create and print a string that says:  Harry Potter and the Sorcerer's Stone"
   ]
  },
  {
   "cell_type": "code",
   "execution_count": 1,
   "metadata": {},
   "outputs": [
    {
     "name": "stdout",
     "output_type": "stream",
     "text": [
      "Harry Potter and the Sorcerer's Stone\n"
     ]
    }
   ],
   "source": [
    "S = \"Harry Potter and the Sorcerer's Stone\"\n",
    "print(S)"
   ]
  },
  {
   "cell_type": "markdown",
   "metadata": {},
   "source": [
    "### Create and print a string that says:  “Ah, music,\" he said, wiping his eyes. \"A magic beyond all we do here!” "
   ]
  },
  {
   "cell_type": "code",
   "execution_count": 12,
   "metadata": {},
   "outputs": [
    {
     "name": "stdout",
     "output_type": "stream",
     "text": [
      "“Ah, music,\"he said, wiping his eyes.\"A magic beyond all we do here!”\n"
     ]
    }
   ],
   "source": [
    "s = \"“Ah, music,\\\"he said, wiping his eyes.\\\"A magic beyond all we do here!”\"\n",
    "print(s)"
   ]
  },
  {
   "cell_type": "markdown",
   "metadata": {},
   "source": [
    "### Create and print a string that says:  Hagrid said, “You're a wizard, Harry.\" "
   ]
  },
  {
   "cell_type": "code",
   "execution_count": 13,
   "metadata": {},
   "outputs": [
    {
     "name": "stdout",
     "output_type": "stream",
     "text": [
      "Hagrid said, “You're a wizard, Harry.\"\n"
     ]
    }
   ],
   "source": [
    "s=\"Hagrid said, “You're a wizard, Harry.\\\"\"\n",
    "print(s)\n"
   ]
  },
  {
   "cell_type": "markdown",
   "metadata": {},
   "source": [
    "### Create and print a string that includes a tap character, a carriage return, and a  the octal value of 176 along with anything else you want"
   ]
  },
  {
   "cell_type": "code",
   "execution_count": 31,
   "metadata": {},
   "outputs": [
    {
     "name": "stdout",
     "output_type": "stream",
     "text": [
      "s\r",
      "p\ta~\n"
     ]
    }
   ],
   "source": [
    "s = 's\\rp\\ta\\176'\n",
    "print(s)"
   ]
  },
  {
   "cell_type": "markdown",
   "metadata": {},
   "source": [
    "### Using only the provided strings, print the following statement:  Mr. and Mrs. Dursley, of number four Privet Drive, were proud to say that they were perfectly normal, thank you very much."
   ]
  },
  {
   "cell_type": "code",
   "execution_count": 32,
   "metadata": {},
   "outputs": [
    {
     "name": "stdout",
     "output_type": "stream",
     "text": [
      "Mr. and Mrs. Dursley, of number four Privet Drive, were proud to say that they were perfectly normal, thank you very much.\n"
     ]
    }
   ],
   "source": [
    "string_a = 'Mr. and Mrs. Dursley'\n",
    "string_b = \"thank you very much.\"\n",
    "string_c = 'of number four Privet Drive' \n",
    "string_d = 'were proud to say that they were perfectly normal'\n",
    "comma_space = ', '\n",
    "\n",
    "print(string_a + comma_space + string_c + comma_space + string_d + comma_space + string_b)"
   ]
  },
  {
   "cell_type": "markdown",
   "metadata": {},
   "source": [
    "###  Without changing any of the strings, or adding more to the last line, print out:  jingle bells, jingle bells, jingle all the way"
   ]
  },
  {
   "cell_type": "code",
   "execution_count": 34,
   "metadata": {},
   "outputs": [
    {
     "name": "stdout",
     "output_type": "stream",
     "text": [
      "jingle bells, jingle bells, jingle all the way\n"
     ]
    }
   ],
   "source": [
    "jingle = 'jingle bells, '\n",
    "all_the_way = 'jingle all the way'\n",
    "\n",
    "print (jingle *2  + all_the_way)"
   ]
  },
  {
   "cell_type": "markdown",
   "metadata": {},
   "source": [
    "### Using only the following strings, print out: jingle bells, jingle bells, jingle all the way"
   ]
  },
  {
   "cell_type": "code",
   "execution_count": 37,
   "metadata": {},
   "outputs": [
    {
     "name": "stdout",
     "output_type": "stream",
     "text": [
      "jingle bells,jingle bells,jingle all the way\n"
     ]
    }
   ],
   "source": [
    "jingle = 'jingle all the way'\n",
    "bells = 'bells,'\n",
    "print(jingle[0:7] + bells + jingle[0:7] + bells + jingle)"
   ]
  },
  {
   "cell_type": "markdown",
   "metadata": {},
   "source": [
    "### Print the reverse of string_a"
   ]
  },
  {
   "cell_type": "code",
   "execution_count": 38,
   "metadata": {},
   "outputs": [
    {
     "name": "stdout",
     "output_type": "stream",
     "text": [
      "nrael ot NUF yrev si nohtyP\n"
     ]
    }
   ],
   "source": [
    "string_a = 'Python is very FUN to learn'\n",
    "print(string_a[::-1])"
   ]
  },
  {
   "cell_type": "markdown",
   "metadata": {},
   "source": [
    "### Make the last line print only the odd numbers"
   ]
  },
  {
   "cell_type": "code",
   "execution_count": 39,
   "metadata": {},
   "outputs": [
    {
     "name": "stdout",
     "output_type": "stream",
     "text": [
      "13579\n"
     ]
    }
   ],
   "source": [
    "digits = '0123456789'\n",
    "\n",
    "print (digits[1::2])"
   ]
  },
  {
   "cell_type": "markdown",
   "metadata": {},
   "source": [
    "### Using the provided sting, print only the first 3 word of the sentance"
   ]
  },
  {
   "cell_type": "code",
   "execution_count": 42,
   "metadata": {},
   "outputs": [
    {
     "name": "stdout",
     "output_type": "stream",
     "text": [
      "It's wingardium leviOsa\n"
     ]
    }
   ],
   "source": [
    "string_a = 'It\\'s wingardium leviOsa, not leviosAH'\n",
    "\n",
    "a = string_a.find(\",\")\n",
    "print (string_a[:a])"
   ]
  },
  {
   "cell_type": "markdown",
   "metadata": {},
   "source": [
    "### Using only the provided string, print:  It's wingardium leviosAH"
   ]
  },
  {
   "cell_type": "code",
   "execution_count": 46,
   "metadata": {},
   "outputs": [
    {
     "name": "stdout",
     "output_type": "stream",
     "text": [
      "It's wingardium leviosAH\n"
     ]
    }
   ],
   "source": [
    "string_a = \"It's wingardium leviOsa, not leviosAH\"\n",
    "print(string_a[0:16] + string_a[-8:])"
   ]
  },
  {
   "cell_type": "markdown",
   "metadata": {},
   "source": [
    "### Using only the provided stings, print out: You're a wizard, Harry. (note that the H is capitalized here)"
   ]
  },
  {
   "cell_type": "code",
   "execution_count": 53,
   "metadata": {},
   "outputs": [
    {
     "name": "stdout",
     "output_type": "stream",
     "text": [
      "You're a wizard, Harry.\n"
     ]
    }
   ],
   "source": [
    "string_a = \"You're a wizard, harry.\"\n",
    "h = 'H'\n",
    "b = string_a.find(\"h\")\n",
    "print(string_a[:b] + h + string_a[-5:])"
   ]
  },
  {
   "cell_type": "markdown",
   "metadata": {},
   "source": [
    "### Print out the lenght of the following string"
   ]
  },
  {
   "cell_type": "code",
   "execution_count": 54,
   "metadata": {},
   "outputs": [
    {
     "name": "stdout",
     "output_type": "stream",
     "text": [
      "390\n"
     ]
    }
   ],
   "source": [
    "string_a = 'Hogwarts, Hogwarts, Hoggy Warty Hogwarts, Teach us something please, Whether we be old and bald Or young with scabby knees, Our heads could do with filling With some interesting stuff, For now they’re bare and full of air, Dead flies and bits of fluff, So teach us things worth knowing, Bring back what we’ve forgot, Just do your best, we’ll do the rest, And learn until our brains all rot.'\n",
    "\n",
    "print(len(string_a))\n"
   ]
  },
  {
   "cell_type": "markdown",
   "metadata": {},
   "source": [
    "### Find the first instance of knees in the following string"
   ]
  },
  {
   "cell_type": "code",
   "execution_count": 55,
   "metadata": {},
   "outputs": [
    {
     "name": "stdout",
     "output_type": "stream",
     "text": [
      "117\n"
     ]
    }
   ],
   "source": [
    "string_a = 'Hogwarts, Hogwarts, Hoggy Warty Hogwarts, Teach us something please, Whether we be old and bald Or young with scabby knees, Our heads could do with filling With some interesting stuff, For now they’re bare and full of air, Dead flies and bits of fluff, So teach us things worth knowing, Bring back what we’ve forgot, Just do your best, we’ll do the rest, And learn until our brains all rot.'\n",
    "\n",
    "print(string_a.find(\"knees\"))\n"
   ]
  },
  {
   "cell_type": "markdown",
   "metadata": {},
   "source": [
    "### Find the first instance of tseb in the following string, when the string is reversed"
   ]
  },
  {
   "cell_type": "code",
   "execution_count": 56,
   "metadata": {},
   "outputs": [
    {
     "name": "stdout",
     "output_type": "stream",
     "text": [
      "56\n"
     ]
    }
   ],
   "source": [
    "string_a = 'Hogwarts, Hogwarts, Hoggy Warty Hogwarts, Teach us something please, Whether we be old and bald Or young with scabby knees, Our heads could do with filling With some interesting stuff, For now they’re bare and full of air, Dead flies and bits of fluff, So teach us things worth knowing, Bring back what we’ve forgot, Just do your best, we’ll do the rest, And learn until our brains all rot.'\n",
    "string_r = string_a[::-1]\n",
    "\n",
    "print(string_r.find(\"tseb\"))\n"
   ]
  },
  {
   "cell_type": "markdown",
   "metadata": {},
   "source": [
    "### Determine if the string harry is in the following string"
   ]
  },
  {
   "cell_type": "code",
   "execution_count": 58,
   "metadata": {},
   "outputs": [
    {
     "name": "stdout",
     "output_type": "stream",
     "text": [
      "-1\n",
      "harry is not present in the string\n"
     ]
    }
   ],
   "source": [
    "string_a = 'Hogwarts, Hogwarts, Hoggy Warty Hogwarts, Teach us something please, Whether we be old and bald Or young with scabby knees, Our heads could do with filling With some interesting stuff, For now they’re bare and full of air, Dead flies and bits of fluff, So teach us things worth knowing, Bring back what we’ve forgot, Just do your best, we’ll do the rest, And learn until our brains all rot.'\n",
    "\n",
    "print(string_a.find(\"harry\"))\n",
    "print(\"harry is not present in the string\")\n"
   ]
  },
  {
   "cell_type": "markdown",
   "metadata": {},
   "source": [
    "### Replace all e's with 3's in the following sting"
   ]
  },
  {
   "cell_type": "code",
   "execution_count": 61,
   "metadata": {},
   "outputs": [
    {
     "name": "stdout",
     "output_type": "stream",
     "text": [
      "Hogwarts, Hogwarts, Hoggy Warty Hogwarts, T3ach us som3thing pl3as3, Wh3th3r w3 b3 old and bald Or young with scabby kn33s, Our h3ads could do with filling With som3 int3r3sting stuff, For now th3y’r3 bar3 and full of air, D3ad fli3s and bits of fluff, So t3ach us things worth knowing, Bring back what w3’v3 forgot, Just do your b3st, w3’ll do th3 r3st, And l3arn until our brains all rot.\n"
     ]
    }
   ],
   "source": [
    "string_a = 'Hogwarts, Hogwarts, Hoggy Warty Hogwarts, Teach us something please, Whether we be old and bald Or young with scabby knees, Our heads could do with filling With some interesting stuff, For now they’re bare and full of air, Dead flies and bits of fluff, So teach us things worth knowing, Bring back what we’ve forgot, Just do your best, we’ll do the rest, And learn until our brains all rot.'\n",
    "\n",
    "print(string_a.replace(\"e\",str(3)))"
   ]
  },
  {
   "cell_type": "markdown",
   "metadata": {},
   "source": [
    "### Split up the following string by its commas"
   ]
  },
  {
   "cell_type": "code",
   "execution_count": 62,
   "metadata": {},
   "outputs": [
    {
     "name": "stdout",
     "output_type": "stream",
     "text": [
      "['Hogwarts', ' Hogwarts', ' Hoggy Warty Hogwarts', ' Teach us something please', ' Whether we be old and bald Or young with scabby knees', ' Our heads could do with filling With some interesting stuff', ' For now they’re bare and full of air', ' Dead flies and bits of fluff', ' So teach us things worth knowing', ' Bring back what we’ve forgot', ' Just do your best', ' we’ll do the rest', ' And learn until our brains all rot.']\n"
     ]
    }
   ],
   "source": [
    "string_a = 'Hogwarts, Hogwarts, Hoggy Warty Hogwarts, Teach us something please, Whether we be old and bald Or young with scabby knees, Our heads could do with filling With some interesting stuff, For now they’re bare and full of air, Dead flies and bits of fluff, So teach us things worth knowing, Bring back what we’ve forgot, Just do your best, we’ll do the rest, And learn until our brains all rot.'\n",
    "\n",
    "print(string_a.split(\",\"))"
   ]
  },
  {
   "cell_type": "markdown",
   "metadata": {},
   "source": [
    "### Tell me if '3.141' is a digit"
   ]
  },
  {
   "cell_type": "code",
   "execution_count": 65,
   "metadata": {},
   "outputs": [
    {
     "name": "stdout",
     "output_type": "stream",
     "text": [
      "<class 'str'>\n",
      "'3.141' is not a digit\n"
     ]
    }
   ],
   "source": [
    "pi = '3.141'\n",
    "print(type(pi))\n",
    "print(\"'3.141' is not a digit\")"
   ]
  },
  {
   "cell_type": "markdown",
   "metadata": {},
   "source": [
    "### Add the two values in the strings together to get 45"
   ]
  },
  {
   "cell_type": "code",
   "execution_count": 66,
   "metadata": {},
   "outputs": [
    {
     "name": "stdout",
     "output_type": "stream",
     "text": [
      "45\n"
     ]
    }
   ],
   "source": [
    "eleven = '11'\n",
    "thirty_four = '34'\n",
    "print(int(eleven)+int(thirty_four))"
   ]
  },
  {
   "cell_type": "markdown",
   "metadata": {},
   "source": [
    "### Print the sum of the two numbers as a string, 'the sum is equal to 45'\n",
    "\n",
    "Meaning that you add the numbers and then append the sum to another string"
   ]
  },
  {
   "cell_type": "code",
   "execution_count": 73,
   "metadata": {},
   "outputs": [
    {
     "name": "stdout",
     "output_type": "stream",
     "text": [
      "'the sum is equal to 45'\n"
     ]
    }
   ],
   "source": [
    "eleven = '11'\n",
    "thirty_four = '34'\n",
    "\n",
    "print(\"'the sum is equal to \" +str(int(eleven) + int(thirty_four)) +\"'\")"
   ]
  },
  {
   "cell_type": "markdown",
   "metadata": {},
   "source": [
    "### What ASCII representation of '!'?"
   ]
  },
  {
   "cell_type": "code",
   "execution_count": 89,
   "metadata": {},
   "outputs": [
    {
     "name": "stdout",
     "output_type": "stream",
     "text": [
      "33\n",
      "!\n"
     ]
    }
   ],
   "source": [
    "string_a = '!'\n",
    "\n",
    "print(ord(string_a))\n",
    "print(chr(33)) ## ASCII value 33 represents'!'"
   ]
  },
  {
   "cell_type": "markdown",
   "metadata": {},
   "source": [
    "### What character has the ASCII representation of 56"
   ]
  },
  {
   "cell_type": "code",
   "execution_count": 92,
   "metadata": {},
   "outputs": [
    {
     "name": "stdout",
     "output_type": "stream",
     "text": [
      "8\n"
     ]
    }
   ],
   "source": [
    "value = 56\n",
    "\n",
    "print(chr(56)) ## Character has the ASCII representation of 56"
   ]
  },
  {
   "cell_type": "markdown",
   "metadata": {},
   "source": [
    "### Make the provided string all uppercase and print the result"
   ]
  },
  {
   "cell_type": "code",
   "execution_count": 95,
   "metadata": {},
   "outputs": [
    {
     "name": "stdout",
     "output_type": "stream",
     "text": [
      "HARRY POTTER AND THE SORCERER'S STONE\n"
     ]
    }
   ],
   "source": [
    "string_harry_1 = \"Harry Potter and the Sorcerer's Stone\"\n",
    "a = string_harry_1.upper()\n",
    "print(a)"
   ]
  },
  {
   "cell_type": "markdown",
   "metadata": {},
   "source": [
    "### Make the provided sting all lowercase and print the result"
   ]
  },
  {
   "cell_type": "code",
   "execution_count": 96,
   "metadata": {},
   "outputs": [
    {
     "name": "stdout",
     "output_type": "stream",
     "text": [
      "harry potter and the sorcerer's stone\n"
     ]
    }
   ],
   "source": [
    "string_harry_1 = \"Harry Potter and the Sorcerer's Stone\"\n",
    "b=string_harry_1.lower()\n",
    "print(b)"
   ]
  },
  {
   "cell_type": "markdown",
   "metadata": {},
   "source": [
    "### Provide me two different examples of different string formatting methods and print the result"
   ]
  },
  {
   "cell_type": "code",
   "execution_count": 101,
   "metadata": {},
   "outputs": [
    {
     "name": "stdout",
     "output_type": "stream",
     "text": [
      "8 hawk in the leg is worth 12 in the garden\n",
      "He destroys 2 of the 7 evidences\n"
     ]
    }
   ],
   "source": [
    "# Method 1: Using % operator\n",
    "\n",
    "print ('%d hawk in the %s is worth %d in the garden' % (8, 'leg', 12))\n",
    "\n",
    "# Method 2: Using .format method\n",
    "print ('He {0} {1} of the {2} evidences'.format('destroys', 2, 7))"
   ]
  }
 ],
 "metadata": {
  "anaconda-cloud": {},
  "kernelspec": {
   "display_name": "Python 3",
   "language": "python",
   "name": "python3"
  },
  "language_info": {
   "codemirror_mode": {
    "name": "ipython",
    "version": 3
   },
   "file_extension": ".py",
   "mimetype": "text/x-python",
   "name": "python",
   "nbconvert_exporter": "python",
   "pygments_lexer": "ipython3",
   "version": "3.6.4"
  }
 },
 "nbformat": 4,
 "nbformat_minor": 2
}
