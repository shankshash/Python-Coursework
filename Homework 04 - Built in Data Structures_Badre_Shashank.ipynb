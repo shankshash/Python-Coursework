{
 "cells": [
  {
   "cell_type": "markdown",
   "metadata": {
    "collapsed": true
   },
   "source": [
    "# Homework 04 - Built in Data Structures"
   ]
  },
  {
   "cell_type": "markdown",
   "metadata": {},
   "source": [
    "### Create a list containing 4 different types of elements"
   ]
  },
  {
   "cell_type": "code",
   "execution_count": 7,
   "metadata": {},
   "outputs": [
    {
     "name": "stdout",
     "output_type": "stream",
     "text": [
      "[1, 2, 'e', 'Keep Fighting', 3.42, True]\n"
     ]
    }
   ],
   "source": [
    "L = [1,2,'e','Keep Fighting', 3.42,True]\n",
    "print (L)\n"
   ]
  },
  {
   "cell_type": "markdown",
   "metadata": {},
   "source": [
    "### Create a list of all the characters in the provided sting"
   ]
  },
  {
   "cell_type": "code",
   "execution_count": 9,
   "metadata": {},
   "outputs": [
    {
     "name": "stdout",
     "output_type": "stream",
     "text": [
      "['H', 'a', 'r', 'r', 'y', ' ', 'P', 'o', 't', 't', 'e', 'r', ' ', 'a', 'n', 'd', ' ', 't', 'h', 'e', ' ', 'P', 'r', 'i', 's', 'o', 'n', 'e', 'r', ' ', 'o', 'f', ' ', 'A', 'z', 'k', 'a', 'b', 'a', 'n']\n"
     ]
    }
   ],
   "source": [
    "string_a = 'Harry Potter and the Prisoner of Azkaban'\n",
    "\n",
    "L=list(string_a)\n",
    "print (L)\n"
   ]
  },
  {
   "cell_type": "markdown",
   "metadata": {},
   "source": [
    "### Create a list of 3 lists, each with containting three 1s"
   ]
  },
  {
   "cell_type": "code",
   "execution_count": 10,
   "metadata": {},
   "outputs": [
    {
     "name": "stdout",
     "output_type": "stream",
     "text": [
      "[[1, 1, 1], [1, 1, 1], [1, 1, 1]]\n"
     ]
    }
   ],
   "source": [
    "L = [1,1,1]\n",
    "D = [L,L,L]\n",
    "print (D)"
   ]
  },
  {
   "cell_type": "markdown",
   "metadata": {},
   "source": [
    "### What is the first and third elements of the provided list"
   ]
  },
  {
   "cell_type": "code",
   "execution_count": 11,
   "metadata": {},
   "outputs": [
    {
     "name": "stdout",
     "output_type": "stream",
     "text": [
      "Ravenclaw\n",
      "Slytherin\n"
     ]
    }
   ],
   "source": [
    "houses = ['Gryffindor','Ravenclaw','Hufflepuff','Slytherin']\n",
    "\n",
    "print(houses[1])\n",
    "print(houses[3])\n"
   ]
  },
  {
   "cell_type": "markdown",
   "metadata": {},
   "source": [
    "### Print out a list of the last two elements of the provided list"
   ]
  },
  {
   "cell_type": "code",
   "execution_count": 20,
   "metadata": {},
   "outputs": [
    {
     "name": "stdout",
     "output_type": "stream",
     "text": [
      "['Slytherin', 'Hufflepuff']\n"
     ]
    }
   ],
   "source": [
    "houses = ['Gryffindor','Ravenclaw','Hufflepuff','Slytherin']\n",
    "print (houses[:-3:-1])"
   ]
  },
  {
   "cell_type": "markdown",
   "metadata": {},
   "source": [
    "### Print the provided list in reverse order"
   ]
  },
  {
   "cell_type": "code",
   "execution_count": 21,
   "metadata": {},
   "outputs": [
    {
     "name": "stdout",
     "output_type": "stream",
     "text": [
      "['Slytherin', 'Hufflepuff', 'Ravenclaw', 'Gryffindor']\n"
     ]
    }
   ],
   "source": [
    "houses = ['Gryffindor','Ravenclaw','Hufflepuff','Slytherin']\n",
    "print (houses[::-1])\n"
   ]
  },
  {
   "cell_type": "markdown",
   "metadata": {},
   "source": [
    "### What is the length of the provided list"
   ]
  },
  {
   "cell_type": "code",
   "execution_count": 22,
   "metadata": {},
   "outputs": [
    {
     "name": "stdout",
     "output_type": "stream",
     "text": [
      "4\n"
     ]
    }
   ],
   "source": [
    "houses = ['Gryffindor','Ravenclaw','Hufflepuff','Slytherin']\n",
    "print(len(houses))"
   ]
  },
  {
   "cell_type": "markdown",
   "metadata": {},
   "source": [
    "### Concatenate the following two lists"
   ]
  },
  {
   "cell_type": "code",
   "execution_count": 23,
   "metadata": {},
   "outputs": [
    {
     "name": "stdout",
     "output_type": "stream",
     "text": [
      "[2, 3, 5, 7, 11, 13, 17, 19, 23, 29, 31, 37, 41, 43, 47, 53, 59, 61, 67, 71, 73, 79, 83, 89, 97, 101]\n"
     ]
    }
   ],
   "source": [
    "list_a = [2, 3, 5, 7, 11, 13, 17, 19, 23, 29, 31, 37, 41, 43, 47]\n",
    "list_b = [53, 59, 61, 67, 71, 73, 79, 83, 89, 97, 101]\n",
    "\n",
    "print (list_a + list_b)"
   ]
  },
  {
   "cell_type": "markdown",
   "metadata": {},
   "source": [
    "### Make a list with the following list values repeated 4 time"
   ]
  },
  {
   "cell_type": "code",
   "execution_count": 24,
   "metadata": {},
   "outputs": [
    {
     "name": "stdout",
     "output_type": "stream",
     "text": [
      "['Gryffindor', 'Ravenclaw', 'Hufflepuff', 'Slytherin', 'Gryffindor', 'Ravenclaw', 'Hufflepuff', 'Slytherin', 'Gryffindor', 'Ravenclaw', 'Hufflepuff', 'Slytherin', 'Gryffindor', 'Ravenclaw', 'Hufflepuff', 'Slytherin']\n"
     ]
    }
   ],
   "source": [
    "houses = ['Gryffindor','Ravenclaw','Hufflepuff','Slytherin']\n",
    "\n",
    "print (houses * 4)"
   ]
  },
  {
   "cell_type": "markdown",
   "metadata": {},
   "source": [
    "### What is the index of 73 in the provided list"
   ]
  },
  {
   "cell_type": "code",
   "execution_count": 25,
   "metadata": {},
   "outputs": [
    {
     "name": "stdout",
     "output_type": "stream",
     "text": [
      "20\n"
     ]
    }
   ],
   "source": [
    "primes = [2, 3, 5, 7, 11, 13, 17, 19, 23, 29, 31, 37, 41, 43, 47, 53, 59, 61, 67, 71, 73, 79, 83, 89, 97, 101]\n",
    "\n",
    "print(primes.index(73))"
   ]
  },
  {
   "cell_type": "markdown",
   "metadata": {},
   "source": [
    "### Is 42 in the provided list?"
   ]
  },
  {
   "cell_type": "code",
   "execution_count": 27,
   "metadata": {},
   "outputs": [
    {
     "name": "stdout",
     "output_type": "stream",
     "text": [
      "False\n"
     ]
    }
   ],
   "source": [
    "primes = [2, 3, 5, 7, 11, 13, 17, 19, 23, 29, 31, 37, 41, 43, 47, 53, 59, 61, 67, 71, 73, 79, 83, 89, 97, 101]\n",
    "\n",
    "print(42 in primes)"
   ]
  },
  {
   "cell_type": "markdown",
   "metadata": {},
   "source": [
    "### Add the next prime number, 103, to the provided list"
   ]
  },
  {
   "cell_type": "code",
   "execution_count": 29,
   "metadata": {},
   "outputs": [
    {
     "name": "stdout",
     "output_type": "stream",
     "text": [
      "[2, 3, 5, 7, 11, 13, 17, 19, 23, 29, 31, 37, 41, 43, 47, 53, 59, 61, 67, 71, 73, 79, 83, 89, 97, 101, 103]\n"
     ]
    }
   ],
   "source": [
    "primes = [2, 3, 5, 7, 11, 13, 17, 19, 23, 29, 31, 37, 41, 43, 47, 53, 59, 61, 67, 71, 73, 79, 83, 89, 97, 101]\n",
    "\n",
    "primes.append(103)\n",
    "\n",
    "print(primes)"
   ]
  },
  {
   "cell_type": "markdown",
   "metadata": {},
   "source": [
    "### Remove the last prime number in the list"
   ]
  },
  {
   "cell_type": "code",
   "execution_count": 32,
   "metadata": {},
   "outputs": [
    {
     "name": "stdout",
     "output_type": "stream",
     "text": [
      "101\n",
      "[2, 3, 5, 7, 11, 13, 17, 19, 23, 29, 31, 37, 41, 43, 47, 53, 59, 61, 67, 71, 73, 79, 83, 89, 97]\n"
     ]
    }
   ],
   "source": [
    "primes = [2, 3, 5, 7, 11, 13, 17, 19, 23, 29, 31, 37, 41, 43, 47, 53, 59, 61, 67, 71, 73, 79, 83, 89, 97, 101]\n",
    "\n",
    "print (primes.pop())\n",
    "print (primes)"
   ]
  },
  {
   "cell_type": "markdown",
   "metadata": {},
   "source": [
    "### Insert 42 into the the appropriate place to maintain order in the list"
   ]
  },
  {
   "cell_type": "code",
   "execution_count": 33,
   "metadata": {},
   "outputs": [
    {
     "name": "stdout",
     "output_type": "stream",
     "text": [
      "[2, 3, 5, 7, 11, 13, 17, 19, 23, 29, 31, 37, 41, 42, 43, 47, 53, 59, 61, 67, 71, 73, 79, 83, 89, 97, 101]\n"
     ]
    }
   ],
   "source": [
    "primes = [2, 3, 5, 7, 11, 13, 17, 19, 23, 29, 31, 37, 41, 43, 47, 53, 59, 61, 67, 71, 73, 79, 83, 89, 97, 101]\n",
    "\n",
    "primes.insert(13,42)\n",
    "\n",
    "print (primes)"
   ]
  },
  {
   "cell_type": "markdown",
   "metadata": {},
   "source": [
    "### Howmany 'fish' are in the provided list"
   ]
  },
  {
   "cell_type": "code",
   "execution_count": 34,
   "metadata": {},
   "outputs": [
    {
     "name": "stdout",
     "output_type": "stream",
     "text": [
      "2\n"
     ]
    }
   ],
   "source": [
    "seuss = ['one', 'fist', 'two', 'fish', 'red', 'fist', 'blue', 'fish']\n",
    "\n",
    "print(seuss.count('fish'))"
   ]
  },
  {
   "cell_type": "markdown",
   "metadata": {},
   "source": [
    "### Sort the provided list in ascending order"
   ]
  },
  {
   "cell_type": "code",
   "execution_count": 36,
   "metadata": {},
   "outputs": [
    {
     "name": "stdout",
     "output_type": "stream",
     "text": [
      "[0, 1, 2, 3, 4, 5, 6, 7, 8, 9]\n"
     ]
    }
   ],
   "source": [
    "digits = [8,4,1,3,0,2,7,6,5,9]\n",
    "digits.sort()\n",
    "print (digits)"
   ]
  },
  {
   "cell_type": "markdown",
   "metadata": {},
   "source": [
    "### Sort the provided list in decending order"
   ]
  },
  {
   "cell_type": "code",
   "execution_count": 37,
   "metadata": {},
   "outputs": [
    {
     "name": "stdout",
     "output_type": "stream",
     "text": [
      "[9, 8, 7, 6, 5, 4, 3, 2, 1, 0]\n"
     ]
    }
   ],
   "source": [
    "digits = [8,4,1,3,0,2,7,6,5,9]\n",
    "digits.sort(reverse = True)\n",
    "print (digits)"
   ]
  },
  {
   "cell_type": "markdown",
   "metadata": {},
   "source": [
    "### Reverse the provided list "
   ]
  },
  {
   "cell_type": "code",
   "execution_count": 39,
   "metadata": {},
   "outputs": [
    {
     "name": "stdout",
     "output_type": "stream",
     "text": [
      "['fish', 'blue', 'fist', 'red', 'fish', 'two', 'fist', 'one']\n"
     ]
    }
   ],
   "source": [
    "seuss = ['one', 'fist', 'two', 'fish', 'red', 'fist', 'blue', 'fish']\n",
    "\n",
    "seuss.reverse()\n",
    "\n",
    "print(seuss)"
   ]
  },
  {
   "cell_type": "markdown",
   "metadata": {},
   "source": [
    "### Remove Gryffindor from the provided list and print the result"
   ]
  },
  {
   "cell_type": "code",
   "execution_count": 40,
   "metadata": {},
   "outputs": [
    {
     "name": "stdout",
     "output_type": "stream",
     "text": [
      "['Ravenclaw', 'Hufflepuff', 'Slytherin']\n"
     ]
    }
   ],
   "source": [
    "houses = ['Gryffindor','Ravenclaw','Hufflepuff','Slytherin']\n",
    "\n",
    "houses.remove('Gryffindor')\n",
    "print (houses)"
   ]
  },
  {
   "cell_type": "markdown",
   "metadata": {},
   "source": [
    "### Create a 3x3 matrix using lists of lists composed entierly of 1s"
   ]
  },
  {
   "cell_type": "code",
   "execution_count": 42,
   "metadata": {},
   "outputs": [
    {
     "name": "stdout",
     "output_type": "stream",
     "text": [
      "[[1, 1, 1], [1, 1, 1], [1, 1, 1]]\n"
     ]
    }
   ],
   "source": [
    "matrix = [[1,1,1], [1,1,1], [1,1,1]]\n",
    "print (matrix)"
   ]
  },
  {
   "cell_type": "markdown",
   "metadata": {},
   "source": [
    "### Create a list with your name, major, and graduating year os keys with your appropriate data"
   ]
  },
  {
   "cell_type": "code",
   "execution_count": 99,
   "metadata": {},
   "outputs": [
    {
     "name": "stdout",
     "output_type": "stream",
     "text": [
      "['Shashank', 'BANA', '2018']\n",
      "12383328\n",
      "{'12383328': ['Shashank', 'BANA', '2018']}\n"
     ]
    }
   ],
   "source": [
    "my_list = ['Shashank','BANA','2018']\n",
    "id = ('12383328')\n",
    "rec = {id:my_list}\n",
    "\n",
    "print (my_list)\n",
    "print (id)\n",
    "print (rec)"
   ]
  },
  {
   "cell_type": "markdown",
   "metadata": {},
   "source": [
    "### Create a dictionary with at least four entries where the keys are the last names of your favorite authors, and the value is your faviorite book of theirs"
   ]
  },
  {
   "cell_type": "code",
   "execution_count": 43,
   "metadata": {},
   "outputs": [
    {
     "name": "stdout",
     "output_type": "stream",
     "text": [
      "{'Raman': 'Raghav', 'Chopra': 'Pran', 'Kumar': 'Khiladi', 'Tharoor': 'Tera Suroor'}\n"
     ]
    }
   ],
   "source": [
    "book = {'Raman':'Raghav','Chopra':'Pran','Kumar':'Khiladi','Tharoor':'Tera Suroor'}\n",
    "print(book)"
   ]
  },
  {
   "cell_type": "markdown",
   "metadata": {},
   "source": [
    "### Show me the house roster for Ravenclaw"
   ]
  },
  {
   "cell_type": "code",
   "execution_count": 44,
   "metadata": {},
   "outputs": [
    {
     "name": "stdout",
     "output_type": "stream",
     "text": [
      "['Luna', 'Gilderoy', 'Penelope', 'Filius']\n"
     ]
    }
   ],
   "source": [
    "house_roster = {'Gryffindor':['Harry','Ron','Hermione','Neville'],'Ravenclaw':['Luna', 'Gilderoy', 'Penelope', 'Filius'],'Hufflepuff':['Newton', 'Nymphadora', 'Cedric', 'Teddy'],'Slytherin':['Tom', 'Draco', 'Regulus', 'Narcissa']}\n",
    "\n",
    "print (house_roster['Ravenclaw'])\n"
   ]
  },
  {
   "cell_type": "markdown",
   "metadata": {},
   "source": [
    "### Delete all the Gryffindor information from the following dictionary "
   ]
  },
  {
   "cell_type": "code",
   "execution_count": 45,
   "metadata": {},
   "outputs": [
    {
     "name": "stdout",
     "output_type": "stream",
     "text": [
      "{'Ravenclaw': ['Luna', 'Gilderoy', 'Penelope', 'Filius'], 'Hufflepuff': ['Newton', 'Nymphadora', 'Cedric', 'Teddy'], 'Slytherin': ['Tom', 'Draco', 'Regulus', 'Narcissa']}\n"
     ]
    }
   ],
   "source": [
    "house_roster = {'Gryffindor':['Harry','Ron','Hermione','Neville'],'Ravenclaw':['Luna', 'Gilderoy', 'Penelope', 'Filius'],'Hufflepuff':['Newton', 'Nymphadora', 'Cedric', 'Teddy'],'Slytherin':['Tom', 'Draco', 'Regulus', 'Narcissa']}\n",
    "\n",
    "del house_roster['Gryffindor']\n",
    "\n",
    "print (house_roster)\n"
   ]
  },
  {
   "cell_type": "markdown",
   "metadata": {},
   "source": [
    "### Print all the keys in the provided dictionary"
   ]
  },
  {
   "cell_type": "code",
   "execution_count": 46,
   "metadata": {},
   "outputs": [
    {
     "name": "stdout",
     "output_type": "stream",
     "text": [
      "dict_keys(['Gryffindor', 'Ravenclaw', 'Hufflepuff', 'Slytherin'])\n"
     ]
    }
   ],
   "source": [
    "house_roster = {'Gryffindor':['Harry','Ron','Hermione','Neville'],'Ravenclaw':['Luna', 'Gilderoy', 'Penelope', 'Filius'],'Hufflepuff':['Newton', 'Nymphadora', 'Cedric', 'Teddy'],'Slytherin':['Tom', 'Draco', 'Regulus', 'Narcissa']}\n",
    "\n",
    "print(house_roster.keys())\n"
   ]
  },
  {
   "cell_type": "markdown",
   "metadata": {},
   "source": [
    "### Print all the values in the provided dictionary"
   ]
  },
  {
   "cell_type": "code",
   "execution_count": 47,
   "metadata": {},
   "outputs": [
    {
     "name": "stdout",
     "output_type": "stream",
     "text": [
      "dict_values([['Harry', 'Ron', 'Hermione', 'Neville'], ['Luna', 'Gilderoy', 'Penelope', 'Filius'], ['Newton', 'Nymphadora', 'Cedric', 'Teddy'], ['Tom', 'Draco', 'Regulus', 'Narcissa']])\n"
     ]
    }
   ],
   "source": [
    "house_roster = {'Gryffindor':['Harry','Ron','Hermione','Neville'],'Ravenclaw':['Luna', 'Gilderoy', 'Penelope', 'Filius'],'Hufflepuff':['Newton', 'Nymphadora', 'Cedric', 'Teddy'],'Slytherin':['Tom', 'Draco', 'Regulus', 'Narcissa']}\n",
    "\n",
    "print(house_roster.values())"
   ]
  },
  {
   "cell_type": "markdown",
   "metadata": {},
   "source": [
    "### Make a copy of the following dictionary, then add Abraxas to the Slytherine roster and print the result"
   ]
  },
  {
   "cell_type": "code",
   "execution_count": 51,
   "metadata": {},
   "outputs": [
    {
     "name": "stdout",
     "output_type": "stream",
     "text": [
      "{'Gryffindor': ['Harry', 'Ron', 'Hermione', 'Neville'], 'Ravenclaw': ['Luna', 'Gilderoy', 'Penelope', 'Filius'], 'Hufflepuff': ['Newton', 'Nymphadora', 'Cedric', 'Teddy'], 'Slytherin': ['Tom', 'Draco', 'Regulus', 'Narcissa', 'Abraxas']}\n"
     ]
    }
   ],
   "source": [
    "house_roster = {'Gryffindor':['Harry','Ron','Hermione','Neville'],'Ravenclaw':['Luna', 'Gilderoy', 'Penelope', 'Filius'],'Hufflepuff':['Newton', 'Nymphadora', 'Cedric', 'Teddy'],'Slytherin':['Tom', 'Draco', 'Regulus', 'Narcissa']}\n",
    "\n",
    "F = house_roster.copy()\n",
    "F['Slytherin'] = F['Slytherin'] + ['Abraxas']\n",
    "\n",
    "print(F)"
   ]
  },
  {
   "cell_type": "markdown",
   "metadata": {},
   "source": [
    "### Clear the provided dictionary and provide the result"
   ]
  },
  {
   "cell_type": "code",
   "execution_count": 53,
   "metadata": {},
   "outputs": [
    {
     "name": "stdout",
     "output_type": "stream",
     "text": [
      "{}\n"
     ]
    }
   ],
   "source": [
    "house_roster = {'Gryffindor':['Harry','Ron','Hermione','Neville'],'Ravenclaw':['Luna', 'Gilderoy', 'Penelope', 'Filius'],'Hufflepuff':['Newton', 'Nymphadora', 'Cedric', 'Teddy'],'Slytherin':['Tom', 'Draco', 'Regulus', 'Narcissa']}\n",
    "\n",
    "house_roster.clear()\n",
    "\n",
    "print(house_roster)"
   ]
  },
  {
   "cell_type": "markdown",
   "metadata": {},
   "source": [
    "### Pop Gryffindor from the following dictionary.  Print out the list of those Gryffindor students and the updated dictionary"
   ]
  },
  {
   "cell_type": "code",
   "execution_count": 54,
   "metadata": {},
   "outputs": [
    {
     "name": "stdout",
     "output_type": "stream",
     "text": [
      "['Harry', 'Ron', 'Hermione', 'Neville']\n",
      "{'Ravenclaw': ['Luna', 'Gilderoy', 'Penelope', 'Filius'], 'Hufflepuff': ['Newton', 'Nymphadora', 'Cedric', 'Teddy'], 'Slytherin': ['Tom', 'Draco', 'Regulus', 'Narcissa']}\n"
     ]
    }
   ],
   "source": [
    "house_roster = {'Gryffindor':['Harry','Ron','Hermione','Neville'],'Ravenclaw':['Luna', 'Gilderoy', 'Penelope', 'Filius'],'Hufflepuff':['Newton', 'Nymphadora', 'Cedric', 'Teddy'],'Slytherin':['Tom', 'Draco', 'Regulus', 'Narcissa']}\n",
    "\n",
    "print(house_roster.pop('Gryffindor'))\n",
    "\n",
    "print(house_roster)"
   ]
  },
  {
   "cell_type": "markdown",
   "metadata": {},
   "source": [
    "### Pop a random item from the provided list and print its key/value pair"
   ]
  },
  {
   "cell_type": "code",
   "execution_count": 55,
   "metadata": {},
   "outputs": [
    {
     "name": "stdout",
     "output_type": "stream",
     "text": [
      "('Slytherin', ['Tom', 'Draco', 'Regulus', 'Narcissa'])\n",
      "{'Gryffindor': ['Harry', 'Ron', 'Hermione', 'Neville'], 'Ravenclaw': ['Luna', 'Gilderoy', 'Penelope', 'Filius'], 'Hufflepuff': ['Newton', 'Nymphadora', 'Cedric', 'Teddy']}\n"
     ]
    }
   ],
   "source": [
    "house_roster = {'Gryffindor':['Harry','Ron','Hermione','Neville'],'Ravenclaw':['Luna', 'Gilderoy', 'Penelope', 'Filius'],'Hufflepuff':['Newton', 'Nymphadora', 'Cedric', 'Teddy'],'Slytherin':['Tom', 'Draco', 'Regulus', 'Narcissa']}\n",
    "\n",
    "print(house_roster.popitem())\n"
   ]
  },
  {
   "cell_type": "markdown",
   "metadata": {},
   "source": [
    "### Search for 'Diagon Alley' in the keys of the dictionary, and it its not there, return 'Not found'"
   ]
  },
  {
   "cell_type": "code",
   "execution_count": 56,
   "metadata": {},
   "outputs": [
    {
     "name": "stdout",
     "output_type": "stream",
     "text": [
      "Not found\n"
     ]
    }
   ],
   "source": [
    "house_roster = {'Gryffindor':['Harry','Ron','Hermione','Neville'],'Ravenclaw':['Luna', 'Gilderoy', 'Penelope', 'Filius'],'Hufflepuff':['Newton', 'Nymphadora', 'Cedric', 'Teddy'],'Slytherin':['Tom', 'Draco', 'Regulus', 'Narcissa']}\n",
    "\n",
    "print(house_roster.setdefault('color', 'Not found'))"
   ]
  },
  {
   "cell_type": "markdown",
   "metadata": {},
   "source": [
    "### What is the length of the dictionary"
   ]
  },
  {
   "cell_type": "code",
   "execution_count": 58,
   "metadata": {},
   "outputs": [
    {
     "name": "stdout",
     "output_type": "stream",
     "text": [
      "4\n"
     ]
    }
   ],
   "source": [
    "house_roster = {'Gryffindor':['Harry','Ron','Hermione','Neville'],'Ravenclaw':['Luna', 'Gilderoy', 'Penelope', 'Filius'],'Hufflepuff':['Newton', 'Nymphadora', 'Cedric', 'Teddy'],'Slytherin':['Tom', 'Draco', 'Regulus', 'Narcissa']}\n",
    "\n",
    "print(len(house_roster))"
   ]
  },
  {
   "cell_type": "markdown",
   "metadata": {},
   "source": [
    "### Create 3 different tuples in three different ways.  Each tuple should have at least 3 elements, all of different types"
   ]
  },
  {
   "cell_type": "code",
   "execution_count": 65,
   "metadata": {},
   "outputs": [
    {
     "name": "stdout",
     "output_type": "stream",
     "text": [
      "(1, 'a', 1.9, 'Prem Chopra')\n",
      "(1, 's', 'Shakti Kapoor')\n",
      "('u', 3, 'BABA RANJEET')\n"
     ]
    }
   ],
   "source": [
    "a=(1,'a',1.9,'Prem Chopra')\n",
    "T = tuple(a)\n",
    "print (T)\n",
    "\n",
    "E = (1,'s','Shakti Kapoor')\n",
    "print (E)\n",
    "\n",
    "Y = 'u',3,'BABA RANJEET'\n",
    "print(Y)"
   ]
  },
  {
   "cell_type": "markdown",
   "metadata": {},
   "source": [
    "### Print only the area code of the below phone number"
   ]
  },
  {
   "cell_type": "code",
   "execution_count": 69,
   "metadata": {},
   "outputs": [
    {
     "name": "stdout",
     "output_type": "stream",
     "text": [
      "(5, 1, 3)\n"
     ]
    }
   ],
   "source": [
    "phone = ('(', 5, 1, 3, ')',' ',8,6,7,'-',5,3,0,9)\n",
    "print (phone[1:4])"
   ]
  },
  {
   "cell_type": "markdown",
   "metadata": {},
   "source": [
    "### Print the phone number without the area code, include the '-'"
   ]
  },
  {
   "cell_type": "code",
   "execution_count": 73,
   "metadata": {},
   "outputs": [
    {
     "name": "stdout",
     "output_type": "stream",
     "text": [
      "(8, 6, 7, '-', 5, 3, 0, 9)\n"
     ]
    }
   ],
   "source": [
    "phone = ('(', 5, 1, 3, ')',' ',8,6,7,'-',5,3,0,9)\n",
    "\n",
    "print(phone[6:])"
   ]
  },
  {
   "cell_type": "markdown",
   "metadata": {},
   "source": [
    "### Print the length of the tuple"
   ]
  },
  {
   "cell_type": "code",
   "execution_count": 74,
   "metadata": {},
   "outputs": [
    {
     "name": "stdout",
     "output_type": "stream",
     "text": [
      "14\n"
     ]
    }
   ],
   "source": [
    "phone = ('(', 5, 1, 3, ')',' ',8,6,7,'-',5,3,0,9)\n",
    "\n",
    "print(len(phone))"
   ]
  },
  {
   "cell_type": "markdown",
   "metadata": {},
   "source": [
    "### Concatenae the phone_number and the area_code, along with anything else, to create a tuple equal to phone_complete"
   ]
  },
  {
   "cell_type": "code",
   "execution_count": 80,
   "metadata": {},
   "outputs": [
    {
     "name": "stdout",
     "output_type": "stream",
     "text": [
      "('(', 5, 1, 3, ')', ' ', 8, 6, 7, '-', 5, 3, 0, 9)\n"
     ]
    }
   ],
   "source": [
    "area_code = (5, 1, 3)\n",
    "phone_number = (8,6,7,'-',5,3,0,9)\n",
    "k = tuple(' ')\n",
    "m = tuple(')')\n",
    "j = tuple('(')\n",
    "\n",
    "print (j + area_code + m + k + phone_number)\n",
    "phone_complete = ('(', 5, 1, 3, ')',' ',8,6,7,'-',5,3,0,9)"
   ]
  },
  {
   "cell_type": "markdown",
   "metadata": {},
   "source": [
    "### Using the phone number below, create a tuple of just the numbers (none of the symbols) reapeated 3 times.\n",
    "\n",
    "This tuple should have a total lenght on 30"
   ]
  },
  {
   "cell_type": "code",
   "execution_count": 85,
   "metadata": {},
   "outputs": [
    {
     "name": "stdout",
     "output_type": "stream",
     "text": [
      "(5, 1, 3, 8, 6, 7, 5, 3, 0, 9, 5, 1, 3, 8, 6, 7, 5, 3, 0, 9, 5, 1, 3, 8, 6, 7, 5, 3, 0, 9)\n",
      "30\n"
     ]
    }
   ],
   "source": [
    "phone_complete = ('(', 5, 1, 3, ')',' ',8,6,7,'-',5,3,0,9)\n",
    "\n",
    "chacha = phone_complete[1:4] + phone_complete[6:9] + phone_complete[10:]\n",
    "print (chacha * 3)\n",
    "print (len(chacha * 3))"
   ]
  },
  {
   "cell_type": "markdown",
   "metadata": {},
   "source": [
    "### Print the number of times \"Never gonna let you down\" is in the tuple."
   ]
  },
  {
   "cell_type": "code",
   "execution_count": 86,
   "metadata": {},
   "outputs": [
    {
     "name": "stdout",
     "output_type": "stream",
     "text": [
      "6\n"
     ]
    }
   ],
   "source": [
    "astley = (\"We're no strangers to love\",\n",
    "\"You know the rules and so do I\",\n",
    "\"A full commitment's what I'm thinking of\",\n",
    "\"You wouldn't get this from any other guy\",\n",
    "\"I just wanna tell you how I'm feeling\",\n",
    "\"Gotta make you understand\",\n",
    "\"Never gonna give you up\",\n",
    "\"Never gonna let you down\",\n",
    "\"Never gonna run around and desert you\",\n",
    "\"Never gonna make you cry\",\n",
    "\"Never gonna say goodbye\",\n",
    "\"Never gonna tell a lie and hurt you\",\n",
    "\"We've known each other for so long\",\n",
    "\"Your heart's been aching, but\",\n",
    "\"You're too shy to say it\",\n",
    "\"Inside, we both know what's been going on\",\n",
    "\"We know the game and we're gonna play it\",\n",
    "\"And if you ask me how I'm feeling\",\n",
    "\"Don't tell me you're too blind to see\",\n",
    "\"Never gonna give you up\",\n",
    "\"Never gonna let you down\",\n",
    "\"Never gonna run around and desert you\",\n",
    "\"Never gonna make you cry\",\n",
    "\"Never gonna say goodbye\",\n",
    "\"Never gonna tell a lie and hurt you\",\n",
    "\"Never gonna give you up\",\n",
    "\"Never gonna let you down\",\n",
    "\"Never gonna run around and desert you\",\n",
    "\"Never gonna make you cry\",\n",
    "\"Never gonna say goodbye\",\n",
    "\"Never gonna tell a lie and hurt you\",\n",
    "\"(Ooh, give you up)\",\n",
    "\"(Ooh, give you up)\",\n",
    "\"Never gonna give, never gonna give\",\n",
    "\"(Give you up)\",\n",
    "\"Never gonna give, never gonna give\",\n",
    "\"(Give you up)\",\n",
    "\"We've known each other for so long\",\n",
    "\"Your heart's been aching, but\",\n",
    "\"You're too shy to say it\",\n",
    "\"Inside, we both know what's been going on\",\n",
    "\"We know the game and we're gonna play it\",\n",
    "\"I just wanna tell you how I'm feeling\",\n",
    "\"Gotta make you understand\",\n",
    "\"Never gonna give you up\",\n",
    "\"Never gonna let you down\",\n",
    "\"Never gonna run around and desert you\",\n",
    "\"Never gonna make you cry\",\n",
    "\"Never gonna say goodbye\",\n",
    "\"Never gonna tell a lie and hurt you\",\n",
    "\"Never gonna give you up\",\n",
    "\"Never gonna let you down\",\n",
    "\"Never gonna run around and desert you\",\n",
    "\"Never gonna make you cry\",\n",
    "\"Never gonna say goodbye\",\n",
    "\"Never gonna tell a lie and hurt you\",\n",
    "\"Never gonna give you up\",\n",
    "\"Never gonna let you down\",\n",
    "\"Never gonna run around and desert you\",\n",
    "\"Never gonna make you cry\",\n",
    "\"Never gonna say goodbye\",\n",
    "\"Never gonna tell a lie and hurt you\")\n",
    "\n",
    "print (astley.count(\"Never gonna let you down\"))\n"
   ]
  },
  {
   "cell_type": "markdown",
   "metadata": {},
   "source": [
    "### Create a list, tuple, and dictionary and compare their types to see if they are the same.  All should be False."
   ]
  },
  {
   "cell_type": "code",
   "execution_count": 89,
   "metadata": {},
   "outputs": [
    {
     "name": "stdout",
     "output_type": "stream",
     "text": [
      "False\n"
     ]
    }
   ],
   "source": [
    "list_1 = [1,2.1,4]\n",
    "tuple_1 = (1,2.1,4)\n",
    "you = {a:[1,2.1,4]}\n",
    "\n",
    "#if (type(list_1)==type(tuple_1)) or (type(list_1)==type(you)) or (type(tuple_1)==type(you)):\n",
    "  #  print(\"All are not different types\")\n",
    "#else:\n",
    "    #print(\"All are different data types\")\n",
    "\n",
    "print (type(list_1) == type(tuple_1) == type(you))\n",
    "            "
   ]
  },
  {
   "cell_type": "markdown",
   "metadata": {},
   "source": [
    "### Create a dictionary where an element of that dictionary has the same type as the dictionary"
   ]
  },
  {
   "cell_type": "code",
   "execution_count": 95,
   "metadata": {},
   "outputs": [
    {
     "name": "stdout",
     "output_type": "stream",
     "text": [
      "{'serial': {'b': 'Tarak'}}\n"
     ]
    }
   ],
   "source": [
    "D = {'serial':{'b':'Tarak'}}\n",
    "prime = {'time':D}\n",
    "print (D)"
   ]
  },
  {
   "cell_type": "markdown",
   "metadata": {},
   "source": [
    "### Add a single comment to make the following equation equal to 32"
   ]
  },
  {
   "cell_type": "code",
   "execution_count": 98,
   "metadata": {},
   "outputs": [
    {
     "name": "stdout",
     "output_type": "stream",
     "text": [
      "35\n"
     ]
    }
   ],
   "source": [
    "print (8+19*3-15*2)#-12*2\n",
    "\n",
    "# I was able to get 35"
   ]
  }
 ],
 "metadata": {
  "anaconda-cloud": {},
  "kernelspec": {
   "display_name": "Python 3",
   "language": "python",
   "name": "python3"
  },
  "language_info": {
   "codemirror_mode": {
    "name": "ipython",
    "version": 3
   },
   "file_extension": ".py",
   "mimetype": "text/x-python",
   "name": "python",
   "nbconvert_exporter": "python",
   "pygments_lexer": "ipython3",
   "version": "3.6.4"
  }
 },
 "nbformat": 4,
 "nbformat_minor": 2
}
