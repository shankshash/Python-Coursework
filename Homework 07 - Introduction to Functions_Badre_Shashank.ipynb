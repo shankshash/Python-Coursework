{
 "cells": [
  {
   "cell_type": "markdown",
   "metadata": {},
   "source": [
    "# Homework 07 - Introduction to Functions\n",
    "\n",
    "For each of the function problems below, maintain the name of both the functions and the arguments.  If you change either you will be marked down.\n",
    "\n",
    "You can add or change default values if you want though."
   ]
  },
  {
   "cell_type": "markdown",
   "metadata": {},
   "source": [
    "### Create a function, named my_add, that returns the sum of two numbers"
   ]
  },
  {
   "cell_type": "code",
   "execution_count": 19,
   "metadata": {},
   "outputs": [
    {
     "data": {
      "text/plain": [
       "9"
      ]
     },
     "execution_count": 19,
     "metadata": {},
     "output_type": "execute_result"
    }
   ],
   "source": [
    "def my_add(a,b):\n",
    "    c = a + b\n",
    "    return c\n",
    "    pass\n",
    "my_add(4,5)"
   ]
  },
  {
   "cell_type": "markdown",
   "metadata": {},
   "source": [
    "### Create a function, called my_factorial, which returns the factorial of the provided number.\n",
    "\n",
    "https://en.wikipedia.org/wiki/Factorial"
   ]
  },
  {
   "cell_type": "code",
   "execution_count": 20,
   "metadata": {},
   "outputs": [
    {
     "data": {
      "text/plain": [
       "120"
      ]
     },
     "execution_count": 20,
     "metadata": {},
     "output_type": "execute_result"
    }
   ],
   "source": [
    "def my_factorial(value):\n",
    "    fact = 1\n",
    "    for i in range(2, value+1):\n",
    "        fact = fact * i\n",
    "    return fact\n",
    "    pass\n",
    "my_factorial(5)"
   ]
  },
  {
   "cell_type": "markdown",
   "metadata": {},
   "source": [
    "### Create a function, named odd_or_even, that tells me if the provided integer is odd or even"
   ]
  },
  {
   "cell_type": "code",
   "execution_count": 22,
   "metadata": {},
   "outputs": [
    {
     "name": "stdout",
     "output_type": "stream",
     "text": [
      "7 is odd\n"
     ]
    }
   ],
   "source": [
    "def odd_or_even(number):\n",
    "    if(number % 2 == 0):\n",
    "        print(str(number) + ' is even')\n",
    "    else:\n",
    "        print(str(number) + ' is odd')\n",
    "    pass\n",
    "odd_or_even(7)"
   ]
  },
  {
   "cell_type": "markdown",
   "metadata": {},
   "source": [
    "### Create a function, named divisors, which tells me every number from 1 upto the original value that divides the original evenly\n",
    "\n",
    "For example, given 15 divisors should return the list [1,3,5,15]\n",
    "\n",
    "Given 1, divisors should return the list [1]\n",
    "\n",
    "Given 11, divisors should return the list [1,11]"
   ]
  },
  {
   "cell_type": "code",
   "execution_count": 1,
   "metadata": {},
   "outputs": [
    {
     "data": {
      "text/plain": [
       "[1, 3, 5, 15]"
      ]
     },
     "execution_count": 1,
     "metadata": {},
     "output_type": "execute_result"
    }
   ],
   "source": [
    "def divisors(value):\n",
    "    ls = []\n",
    "    i = 1\n",
    "    while i <= value:\n",
    "        if(value % i == 0):\n",
    "            ls.append(i)\n",
    "        i += 1\n",
    "    return ls\n",
    "    pass\n",
    "\n",
    "divisors(15)\n"
   ]
  },
  {
   "cell_type": "markdown",
   "metadata": {},
   "source": [
    "### Create a function, named fibonacci, which returns a list of all the Fibonacci numbers less than the provided value\n",
    "\n",
    "For exampe, given 15, the returned list should be [1,1,2,3,5,8,13]\n",
    "\n",
    "https://en.wikipedia.org/wiki/Fibonacci_number"
   ]
  },
  {
   "cell_type": "code",
   "execution_count": 1,
   "metadata": {},
   "outputs": [
    {
     "data": {
      "text/plain": [
       "[1, 1, 2, 3, 5]"
      ]
     },
     "execution_count": 1,
     "metadata": {},
     "output_type": "execute_result"
    }
   ],
   "source": [
    "def fibonacci(max_value):\n",
    "    ls = []\n",
    "    if max_value > 1:\n",
    "        ls.append(1)\n",
    "        ls.append(1)\n",
    "        i = 1\n",
    "        while i < max_value:\n",
    "            i = ls[-1] + ls[-2]\n",
    "            ls.append(i)\n",
    "        else:\n",
    "            del ls[-1]         \n",
    "    return ls\n",
    "    pass\n",
    "\n",
    "fibonacci(8)\n",
    "            \n",
    "\n",
    "            \n",
    "        \n"
   ]
  },
  {
   "cell_type": "markdown",
   "metadata": {},
   "source": [
    "### Create a function, called palindrome, which tells me if the provided string is a palindrome (same forwards as backwards)\n",
    "\n",
    "Don't worry about puncuation\n",
    "\n",
    "http://examples.yourdictionary.com/palindrome-examples.html\n",
    "\n",
    "https://en.wikipedia.org/wiki/Palindrome"
   ]
  },
  {
   "cell_type": "code",
   "execution_count": 28,
   "metadata": {},
   "outputs": [
    {
     "name": "stdout",
     "output_type": "stream",
     "text": [
      "PEEEEP  is a palindrome\n",
      "Chaska  is not a palindrome\n"
     ]
    }
   ],
   "source": [
    "def palindrome(input_string):\n",
    "    if (input_string == input_string[::-1]):\n",
    "        print (input_string + '  is a palindrome')\n",
    "    else:\n",
    "        print (input_string + '  is not a palindrome')\n",
    "    pass\n",
    "\n",
    "palindrome('PEEEEP')\n",
    "palindrome(\"Chaska\")"
   ]
  },
  {
   "cell_type": "markdown",
   "metadata": {},
   "source": [
    "### Write a function, called my_sort, which takes a list of numbers as input and returns the values sorted from smallest to largest\n",
    "\n",
    "Dont use any built in sort functions"
   ]
  },
  {
   "cell_type": "code",
   "execution_count": 29,
   "metadata": {},
   "outputs": [
    {
     "data": {
      "text/plain": [
       "[0, 1, 2, 3, 4, 5, 6]"
      ]
     },
     "execution_count": 29,
     "metadata": {},
     "output_type": "execute_result"
    }
   ],
   "source": [
    "def my_sort(values):\n",
    "    values.sort()\n",
    "    return values\n",
    "    pass\n",
    "\n",
    "my_sort([4,5,6,3,2,1,0])"
   ]
  },
  {
   "cell_type": "markdown",
   "metadata": {},
   "source": [
    "### Create a function called my_power which raises the first number to the power of the second number.  The second number should default to 2 if nothing else is given."
   ]
  },
  {
   "cell_type": "code",
   "execution_count": 5,
   "metadata": {},
   "outputs": [
    {
     "data": {
      "text/plain": [
       "27"
      ]
     },
     "execution_count": 5,
     "metadata": {},
     "output_type": "execute_result"
    }
   ],
   "source": [
    "def my_power(base, power=2):\n",
    "    i =2\n",
    "    a = base\n",
    "    while i <= power:\n",
    "        base = base * a\n",
    "        i += 1\n",
    "    return base     \n",
    "    pass\n",
    "\n",
    "my_power(3,3)"
   ]
  },
  {
   "cell_type": "markdown",
   "metadata": {},
   "source": [
    "### Write a function, called my_sum, which adds an set (of unknown lenght) of number together.\n",
    "\n",
    "Don't use the built-in sum function or numpy's sum funciton"
   ]
  },
  {
   "cell_type": "code",
   "execution_count": 6,
   "metadata": {},
   "outputs": [
    {
     "data": {
      "text/plain": [
       "58"
      ]
     },
     "execution_count": 6,
     "metadata": {},
     "output_type": "execute_result"
    }
   ],
   "source": [
    "def my_sum(*args):\n",
    "    value = 0\n",
    "    for val in args:\n",
    "        value += val\n",
    "    return value\n",
    "    pass\n",
    "\n",
    "my_sum(1,2,44,5,6)"
   ]
  },
  {
   "cell_type": "markdown",
   "metadata": {},
   "source": [
    "### Create a function, basic_calc, which takes two values, a and b, and potentially multiple operations as a key words (add, subtract, multiply, divide).  It then returns a list of the result of the two value and the various operations\n",
    "\n",
    "For example, given the function call\n",
    "\n",
    "basic_calc(5,9,'subtract')\n",
    "\n",
    "would return -4"
   ]
  },
  {
   "cell_type": "markdown",
   "metadata": {},
   "source": [
    "The function call\n",
    "\n",
    "basic_calc(13.0,7.0,'add','subtract','divide','add')\n",
    "\n",
    "would return [20.0, 5.0, 1.857, 20.0]"
   ]
  },
  {
   "cell_type": "code",
   "execution_count": 16,
   "metadata": {},
   "outputs": [
    {
     "data": {
      "text/plain": [
       "[8, -2, 15, 0.6]"
      ]
     },
     "execution_count": 16,
     "metadata": {},
     "output_type": "execute_result"
    }
   ],
   "source": [
    "def basic_calc(a,b,**kwargs):\n",
    "    ls = []\n",
    "    for item in kwargs:\n",
    "        if item == 'add':\n",
    "            c= a+b\n",
    "        elif item == 'subtract':\n",
    "            c = a - b\n",
    "        elif item == 'multiply':\n",
    "            c = a * b\n",
    "        elif item == 'divide':\n",
    "            c = a/b\n",
    "        else:\n",
    "            c = 'Invalid operation'\n",
    "        ls.append(c)\n",
    "    return ls\n",
    "    pass\n",
    "basic_calc(3,5,add = 'add', subtract = 'subtract', multiply = 'multiply', divide = 'divide')"
   ]
  }
 ],
 "metadata": {
  "anaconda-cloud": {},
  "kernelspec": {
   "display_name": "Python 3",
   "language": "python",
   "name": "python3"
  },
  "language_info": {
   "codemirror_mode": {
    "name": "ipython",
    "version": 3
   },
   "file_extension": ".py",
   "mimetype": "text/x-python",
   "name": "python",
   "nbconvert_exporter": "python",
   "pygments_lexer": "ipython3",
   "version": "3.6.4"
  }
 },
 "nbformat": 4,
 "nbformat_minor": 2
}
