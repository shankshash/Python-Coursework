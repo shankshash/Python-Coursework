{
 "cells": [
  {
   "cell_type": "markdown",
   "metadata": {
    "collapsed": true
   },
   "source": [
    "# Homework 06 - Statements in Python"
   ]
  },
  {
   "cell_type": "markdown",
   "metadata": {},
   "source": [
    "### In one line assign both a and b to 17"
   ]
  },
  {
   "cell_type": "code",
   "execution_count": 1,
   "metadata": {},
   "outputs": [
    {
     "name": "stdout",
     "output_type": "stream",
     "text": [
      "17\n",
      "17\n"
     ]
    }
   ],
   "source": [
    "a = b = 17\n",
    "print (a)\n",
    "print (b)"
   ]
  },
  {
   "cell_type": "markdown",
   "metadata": {},
   "source": [
    "### In one line assign each character in the string to a different variable.  Print all the variables (need not be on a single line)."
   ]
  },
  {
   "cell_type": "code",
   "execution_count": 2,
   "metadata": {},
   "outputs": [
    {
     "name": "stdout",
     "output_type": "stream",
     "text": [
      "c\n",
      "l\n",
      "a\n",
      "s\n",
      "s\n"
     ]
    }
   ],
   "source": [
    "ek, do , teen, char, paanch = 'class'\n",
    "print(ek)\n",
    "print(do)\n",
    "print(teen)\n",
    "print(char)\n",
    "print(paanch)"
   ]
  },
  {
   "cell_type": "markdown",
   "metadata": {},
   "source": [
    "### Use an augmented assignment to append the two strings"
   ]
  },
  {
   "cell_type": "code",
   "execution_count": 4,
   "metadata": {},
   "outputs": [
    {
     "name": "stdout",
     "output_type": "stream",
     "text": [
      "Harry Potter\n"
     ]
    }
   ],
   "source": [
    "harry = 'Harry '\n",
    "potter = 'Potter'\n",
    "\n",
    "harry += potter\n",
    "print(harry)"
   ]
  },
  {
   "cell_type": "markdown",
   "metadata": {},
   "source": [
    "### Remove the last item from the list and print it in a single line"
   ]
  },
  {
   "cell_type": "code",
   "execution_count": 5,
   "metadata": {},
   "outputs": [
    {
     "name": "stdout",
     "output_type": "stream",
     "text": [
      "hearts\n"
     ]
    }
   ],
   "source": [
    "suits = ['spades', 'diamonds', 'clubs', 'hearts']\n",
    "print (suits.pop())"
   ]
  },
  {
   "cell_type": "markdown",
   "metadata": {},
   "source": [
    "### Add 'king' to the end of the list, then print the full list"
   ]
  },
  {
   "cell_type": "code",
   "execution_count": 6,
   "metadata": {},
   "outputs": [
    {
     "name": "stdout",
     "output_type": "stream",
     "text": [
      "['ace', '2', '3', '4', '5', '6', '7', '8', '9', '10', 'jack', 'queen', 'king']\n"
     ]
    }
   ],
   "source": [
    "card_values = ['ace','2','3','4','5','6','7','8','9','10','jack','queen']\n",
    "card_values.append('king')\n",
    "print(card_values)"
   ]
  },
  {
   "cell_type": "markdown",
   "metadata": {},
   "source": [
    "### Create a series of if statements that will tell me if a given card value from the provided list is greater than, less than, or equal to 7.  Treat 'ace' as though it has a value of 1.\n",
    "\n",
    "For example, if you are provided '3', your code should print out:\n",
    "3 is less than 7\n",
    "\n",
    "If you are prvided 'king', your code should print out:\n",
    "king is greater than 7\n",
    "\n",
    "If you are provided a '7', your code should print out:\n",
    "7 is equal to 7"
   ]
  },
  {
   "cell_type": "code",
   "execution_count": 20,
   "metadata": {},
   "outputs": [
    {
     "name": "stdout",
     "output_type": "stream",
     "text": [
      "4 is less than 7\n",
      "queen is greater than 7\n"
     ]
    }
   ],
   "source": [
    "card_values = ['ace','2','3','4','5','6','7','8','9','10','jack','queen','king']\n",
    "\n",
    "example_input_a = '4'\n",
    "example_input_b = 'queen'\n",
    "\n",
    "if card_values.index(example_input_a) < card_values.index('7'):\n",
    "    print ('%s is less than 7'%example_input_a)\n",
    "elif card_values.index(example_input_a) > card_values.index('7'):\n",
    "    print ('%s is greater than 7'%example_input_a)\n",
    "else:\n",
    "    print('%s is equal to 7'%example_input_a)\n",
    "\n",
    "if card_values.index(example_input_b) < card_values.index('7'):\n",
    "       print ('%s is less than 7'%example_input_b)\n",
    "elif card_values.index(example_input_b) > card_values.index('7'):\n",
    "    print ('%s is greater than 7'%example_input_b)\n",
    "else:\n",
    "    print('%s is equal to 7'%example_input_b)"
   ]
  },
  {
   "cell_type": "markdown",
   "metadata": {},
   "source": [
    "### Given a card value from the provided list, print out its representative number.\n",
    "\n",
    "For example, if you are provided '8' your code should print out:\n",
    "8 is equal to 8\n",
    "\n",
    "if you are provided 'king' your code should print out:\n",
    "king is equal to 13"
   ]
  },
  {
   "cell_type": "code",
   "execution_count": 27,
   "metadata": {},
   "outputs": [
    {
     "name": "stdout",
     "output_type": "stream",
     "text": [
      "9 is equal to 9\n",
      "ace is equal to 1\n"
     ]
    }
   ],
   "source": [
    "card_values = ['ace','2','3','4','5','6','7','8','9','10','jack','queen','king']\n",
    "\n",
    "example_input_a = '9'\n",
    "example_input_b = 'ace'\n",
    "\n",
    "c = card_values.index(example_input_a) + 1\n",
    "print ('%s is equal to %d' %(example_input_a,c))\n",
    "\n",
    "d = card_values.index(example_input_b) + 1\n",
    "print ('%s is equal to %d' %(example_input_b,d))\n"
   ]
  },
  {
   "cell_type": "markdown",
   "metadata": {},
   "source": [
    "### Loop through the following list of values, adding them as you go.  Once the value is greater than 50 print the sum and stop."
   ]
  },
  {
   "cell_type": "code",
   "execution_count": 28,
   "metadata": {},
   "outputs": [
    {
     "name": "stdout",
     "output_type": "stream",
     "text": [
      "64\n"
     ]
    }
   ],
   "source": [
    "test_list = [1,3,9,3,18,9,21,19,7,12,15,22,29,65]\n",
    "\n",
    "sum = 0\n",
    "for i in test_list:\n",
    "    if(sum<=50):\n",
    "        sum = sum + i\n",
    "    else:\n",
    "        break\n",
    "print(sum)\n",
    "    \n",
    "    "
   ]
  },
  {
   "cell_type": "markdown",
   "metadata": {},
   "source": [
    "### Print each element of the list until you reach the value of 12, then stop.  Use a while loop."
   ]
  },
  {
   "cell_type": "code",
   "execution_count": 30,
   "metadata": {},
   "outputs": [
    {
     "name": "stdout",
     "output_type": "stream",
     "text": [
      "1\n",
      "3\n",
      "9\n",
      "3\n",
      "18\n",
      "9\n",
      "21\n",
      "19\n",
      "7\n",
      "Loop has stopped as the value is 12\n"
     ]
    }
   ],
   "source": [
    "test_list = [1,3,9,3,18,9,21,19,7,12,15,22,29,65]\n",
    "i = 0\n",
    "while test_list[i]!=12:\n",
    "    print (test_list[i])\n",
    "    i += 1\n",
    "print (\"Loop has stopped as the value is 12\")"
   ]
  },
  {
   "cell_type": "markdown",
   "metadata": {},
   "source": [
    "### Print each element of the list until you reach the value of 12, then stop.  Use a for loop."
   ]
  },
  {
   "cell_type": "code",
   "execution_count": 31,
   "metadata": {},
   "outputs": [
    {
     "name": "stdout",
     "output_type": "stream",
     "text": [
      "1\n",
      "3\n",
      "9\n",
      "3\n",
      "18\n",
      "9\n",
      "21\n",
      "19\n",
      "7\n",
      "Value is 12 and loop has stopped\n"
     ]
    }
   ],
   "source": [
    "test_list = [1,3,9,3,18,9,21,19,7,12,15,22,29,65]\n",
    "\n",
    "for i in test_list:\n",
    "    if i != 12:\n",
    "        print (i)\n",
    "    else:\n",
    "        break\n",
    "print('Value is 12 and loop has stopped')"
   ]
  },
  {
   "cell_type": "markdown",
   "metadata": {},
   "source": [
    "### Print each element of the list\n",
    "\n",
    "The first few printed lines should be:\n",
    "\n",
    "The element is equal to 1\n",
    "\n",
    "The element is equal to 3\n",
    "\n",
    "The element is equal to 9"
   ]
  },
  {
   "cell_type": "code",
   "execution_count": 32,
   "metadata": {},
   "outputs": [
    {
     "name": "stdout",
     "output_type": "stream",
     "text": [
      "The element is equal to 1\n",
      "The element is equal to 3\n",
      "The element is equal to 9\n",
      "The element is equal to 3\n",
      "The element is equal to 18\n",
      "The element is equal to 9\n",
      "The element is equal to 21\n",
      "The element is equal to 19\n",
      "The element is equal to 7\n",
      "The element is equal to 12\n",
      "The element is equal to 15\n",
      "The element is equal to 22\n",
      "The element is equal to 29\n",
      "The element is equal to 65\n"
     ]
    }
   ],
   "source": [
    "test_list = [1,3,9,3,18,9,21,19,7,12,15,22,29,65]\n",
    "for i in test_list:\n",
    "    print ('The element is equal to '+str(i))"
   ]
  },
  {
   "cell_type": "markdown",
   "metadata": {},
   "source": [
    "### Print each key/value pair from the dictionary\n",
    "\n",
    "The form of each printed line should be:\n",
    "\n",
    "The [team] are from [city or state]\n",
    "\n",
    "for example:\n",
    "\n",
    "The Red Wings are from Detroit"
   ]
  },
  {
   "cell_type": "code",
   "execution_count": 34,
   "metadata": {},
   "outputs": [
    {
     "name": "stdout",
     "output_type": "stream",
     "text": [
      "The Bruins are from Boston\n",
      "The Sabres are from Buffalo\n",
      "The Red Wings are from Detroit\n",
      "The Panthers are from Florida\n",
      "The Canadiens are from Montreal\n",
      "The Senators are from Ottawa\n",
      "The Lightning are from Tampa Bay\n",
      "The Maple Leafs are from Toronto\n"
     ]
    }
   ],
   "source": [
    "atlantic = {'Boston':'Bruins', 'Buffalo': 'Sabres', 'Detroit': 'Red Wings', 'Florida':'Panthers', 'Montreal':'Canadiens', 'Ottawa':'Senators', 'Tampa Bay': 'Lightning', 'Toronto':'Maple Leafs'}\n",
    "for key, value in atlantic.items():\n",
    "    print ('The %s are from %s' %(value, key))\n",
    "    "
   ]
  },
  {
   "cell_type": "markdown",
   "metadata": {},
   "source": [
    "### Create a list of every (natural) number from 17 to 129"
   ]
  },
  {
   "cell_type": "code",
   "execution_count": 37,
   "metadata": {},
   "outputs": [
    {
     "name": "stdout",
     "output_type": "stream",
     "text": [
      "[17, 18, 19, 20, 21, 22, 23, 24, 25, 26, 27, 28, 29, 30, 31, 32, 33, 34, 35, 36, 37, 38, 39, 40, 41, 42, 43, 44, 45, 46, 47, 48, 49, 50, 51, 52, 53, 54, 55, 56, 57, 58, 59, 60, 61, 62, 63, 64, 65, 66, 67, 68, 69, 70, 71, 72, 73, 74, 75, 76, 77, 78, 79, 80, 81, 82, 83, 84, 85, 86, 87, 88, 89, 90, 91, 92, 93, 94, 95, 96, 97, 98, 99, 100, 101, 102, 103, 104, 105, 106, 107, 108, 109, 110, 111, 112, 113, 114, 115, 116, 117, 118, 119, 120, 121, 122, 123, 124, 125, 126, 127, 128, 129]\n"
     ]
    }
   ],
   "source": [
    "masti= []\n",
    "for i in range(17,130):\n",
    "    masti.append(i)\n",
    "print (masti)"
   ]
  },
  {
   "cell_type": "markdown",
   "metadata": {},
   "source": [
    "### Print the lenght of the following list"
   ]
  },
  {
   "cell_type": "code",
   "execution_count": 38,
   "metadata": {},
   "outputs": [
    {
     "name": "stdout",
     "output_type": "stream",
     "text": [
      "14\n"
     ]
    }
   ],
   "source": [
    "test_list = [1,3,9,3,18,9,21,19,7,12,15,22,29,65]\n",
    "print(len(test_list))"
   ]
  },
  {
   "cell_type": "markdown",
   "metadata": {},
   "source": [
    "### Using zip, create a dictionary, named metropolitan, using the values in the location list as the keys and the the teams in the team list as the values"
   ]
  },
  {
   "cell_type": "code",
   "execution_count": 40,
   "metadata": {},
   "outputs": [
    {
     "name": "stdout",
     "output_type": "stream",
     "text": [
      "{'Carolina': 'Hurricanes', 'Columbus': 'Blue Jackets', 'New Jersey': 'Devils', 'New York 1': 'Islanders', 'New York 2': 'Rangers', 'Philadelphia': 'Flyers', 'Pittsburgh': 'Penguins', 'Washington': 'Capitals'}\n"
     ]
    }
   ],
   "source": [
    "location = ['Carolina', 'Columbus', 'New Jersey', 'New York 1', 'New York 2', 'Philadelphia', 'Pittsburgh', 'Washington']\n",
    "team = ['Hurricanes', 'Blue Jackets', 'Devils', 'Islanders', 'Rangers', 'Flyers', 'Penguins', 'Capitals']\n",
    "\n",
    "\n",
    "metropolitan = dict()\n",
    "\n",
    "for x,y in zip(location, team):\n",
    "    metropolitan[x] = y\n",
    "\n",
    "print (metropolitan)"
   ]
  },
  {
   "cell_type": "markdown",
   "metadata": {},
   "source": [
    "### For each element in the list print out its index and its corresponding value\n",
    "\n",
    "Use the format:\n",
    "\n",
    "0: 1\n",
    "\n",
    "1: 3\n",
    "\n",
    "2: 9"
   ]
  },
  {
   "cell_type": "code",
   "execution_count": 49,
   "metadata": {},
   "outputs": [
    {
     "name": "stdout",
     "output_type": "stream",
     "text": [
      "0:1\n",
      "1:3\n",
      "2:9\n",
      "3:3\n",
      "4:18\n",
      "5:9\n",
      "6:21\n",
      "7:19\n",
      "8:7\n",
      "9:12\n",
      "10:15\n",
      "11:22\n",
      "12:29\n",
      "13:65\n"
     ]
    }
   ],
   "source": [
    "test_list = [1,3,9,3,18,9,21,19,7,12,15,22,29,65]\n",
    "\n",
    "for i in range(len(test_list)):\n",
    "    print(str(i) +':' + str(test_list[i]))\n"
   ]
  },
  {
   "cell_type": "markdown",
   "metadata": {},
   "source": [
    "### Create a list of tuples for each card in a deck of cards using the provided lists.  Then print out each tuple on its own seperate line.\n",
    "\n",
    "For example, your list should have as elements:\n",
    "\n",
    "('king','clubs')\n",
    "\n",
    "('3', 'diamonds')\n",
    "\n",
    "('ace', 'hearts')"
   ]
  },
  {
   "cell_type": "code",
   "execution_count": 57,
   "metadata": {},
   "outputs": [
    {
     "name": "stdout",
     "output_type": "stream",
     "text": [
      "('ace', 'spades')\n",
      "('2', 'diamonds')\n",
      "('3', 'clubs')\n",
      "('4', 'hearts')\n",
      "('5', 'spades')\n",
      "('6', 'diamonds')\n",
      "('7', 'clubs')\n",
      "('8', 'hearts')\n",
      "('9', 'spades')\n",
      "('10', 'diamonds')\n",
      "('jack', 'clubs')\n",
      "('queen', 'hearts')\n",
      "('king', 'spades')\n"
     ]
    }
   ],
   "source": [
    "card_values = ['ace','2','3','4','5','6','7','8','9','10','jack','queen','king']\n",
    "suits = ['spades', 'diamonds', 'clubs', 'hearts']\n",
    "z = tuple()\n",
    "for x,y in zip(card_values, suits*4):\n",
    "    z = (x,y)\n",
    "    print (z)"
   ]
  }
 ],
 "metadata": {
  "anaconda-cloud": {},
  "kernelspec": {
   "display_name": "Python 3",
   "language": "python",
   "name": "python3"
  },
  "language_info": {
   "codemirror_mode": {
    "name": "ipython",
    "version": 3
   },
   "file_extension": ".py",
   "mimetype": "text/x-python",
   "name": "python",
   "nbconvert_exporter": "python",
   "pygments_lexer": "ipython3",
   "version": "3.6.4"
  }
 },
 "nbformat": 4,
 "nbformat_minor": 2
}
