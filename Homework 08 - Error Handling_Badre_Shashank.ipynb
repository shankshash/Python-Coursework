{
 "cells": [
  {
   "cell_type": "markdown",
   "metadata": {},
   "source": [
    "# Homework 08 - Error Handling\n",
    "\n",
    "All of this error handling should be happening inside your functions, not outside of them."
   ]
  },
  {
   "cell_type": "markdown",
   "metadata": {},
   "source": [
    "### For the following functions created in the previous homework, check to see if a TypeError is raised:\n",
    "\n",
    "* my_factorial\n",
    "* odd_or_even\n",
    "\n",
    "If a type error is raised, print out, \"One or more of your provided values is of the wrong type\" and return False"
   ]
  },
  {
   "cell_type": "code",
   "execution_count": 1,
   "metadata": {},
   "outputs": [
    {
     "name": "stdout",
     "output_type": "stream",
     "text": [
      "One or more of your provided values is of the wrong type\n",
      "One or more of your provided values is of the wrong type\n"
     ]
    }
   ],
   "source": [
    "def my_factorial(value):\n",
    "    try:\n",
    "        fact = 1\n",
    "        for i in range(2, value+1):\n",
    "            fact = fact * i\n",
    "        return fact\n",
    "    except TypeError:\n",
    "        print('One or more of your provided values is of the wrong type')\n",
    "    pass\n",
    "my_factorial('j')\n",
    "\n",
    "def odd_or_even(number):\n",
    "    try:\n",
    "        if(number % 2 == 0):\n",
    "            print(str(number) + ' is even')\n",
    "        else:\n",
    "            print(str(number) + ' is odd')\n",
    "    except TypeError:\n",
    "        print('One or more of your provided values is of the wrong type')\n",
    "    pass\n",
    "odd_or_even('8')\n"
   ]
  },
  {
   "cell_type": "markdown",
   "metadata": {},
   "source": [
    "### For the following functions created in the previous homework, raise a TypeError if one or more of the inputs is a string:\n",
    "\n",
    "* divisors\n",
    "* fibonacci"
   ]
  },
  {
   "cell_type": "code",
   "execution_count": 1,
   "metadata": {},
   "outputs": [
    {
     "name": "stdout",
     "output_type": "stream",
     "text": [
      "One or more of your provided values is of the wrong type\n"
     ]
    }
   ],
   "source": [
    "\n",
    "\n",
    "def fibonacci(max_value):\n",
    "    try:\n",
    "        ls = []\n",
    "        if max_value > 1:\n",
    "            ls.append(1)\n",
    "            ls.append(1)\n",
    "            i = 1\n",
    "            while i < max_value:\n",
    "                i = ls[-1] + ls[-2]\n",
    "                ls.append(i)\n",
    "            else:\n",
    "                del ls[-1]         \n",
    "        return ls\n",
    "    except TypeError:\n",
    "        print('One or more of your provided values is of the wrong type')\n",
    "    pass\n",
    "\n",
    "fibonacci('8')"
   ]
  },
  {
   "cell_type": "code",
   "execution_count": 3,
   "metadata": {},
   "outputs": [
    {
     "name": "stdout",
     "output_type": "stream",
     "text": [
      "One or more of your provided values is of the wrong type\n"
     ]
    }
   ],
   "source": [
    "def divisors(value):\n",
    "    try:\n",
    "        ls = []\n",
    "        i = 1\n",
    "        while i <= value:\n",
    "            if(value % i == 0):\n",
    "                ls.append(i)\n",
    "            i += 1\n",
    "        return ls\n",
    "    except TypeError:\n",
    "        print('One or more of your provided values is of the wrong type')\n",
    "    pass\n",
    "\n",
    "divisors('15')"
   ]
  },
  {
   "cell_type": "code",
   "execution_count": null,
   "metadata": {},
   "outputs": [],
   "source": [
    "import sys"
   ]
  },
  {
   "cell_type": "markdown",
   "metadata": {},
   "source": [
    "### For the following functions created in the previous homework, create a new exception called ErrorString and raise it if the provided string is 'this is an error string':\n",
    "\n",
    "* palindrome\n",
    "\n",
    "Use == to compare the strings"
   ]
  },
  {
   "cell_type": "code",
   "execution_count": 21,
   "metadata": {},
   "outputs": [
    {
     "name": "stdout",
     "output_type": "stream",
     "text": [
      "PEEEEP  is a palindrome\n",
      "Chaska  is not a palindrome\n",
      "This string is not allowed to be an input string\n"
     ]
    }
   ],
   "source": [
    "\n",
    "class ErrorString(Exception):\n",
    "    pass\n",
    "    \n",
    "def palindrome(input_string):\n",
    "    try:\n",
    "        if (input_string == 'this is an error string'):\n",
    "            raise ErrorString()\n",
    "        if (input_string == input_string[::-1]):\n",
    "            print (input_string + '  is a palindrome')\n",
    "        else:\n",
    "            print (input_string + '  is not a palindrome')\n",
    "    except ErrorString:\n",
    "        print(\"This string is not allowed to be an input string\")\n",
    "        pass \n",
    "\n",
    "palindrome('PEEEEP')\n",
    "palindrome(\"Chaska\")\n",
    "palindrome('this is an error string')\n",
    "        "
   ]
  },
  {
   "cell_type": "markdown",
   "metadata": {},
   "source": [
    "### For the following functions catch all errors during the addition, and if no error are found print 'no errors found'.  If an error of any kind is found, just print 'we found an error'.  Using the finally keyword print 'all done with operation' after checking.\n",
    "\n",
    "* my_add"
   ]
  },
  {
   "cell_type": "code",
   "execution_count": 36,
   "metadata": {},
   "outputs": [
    {
     "name": "stdout",
     "output_type": "stream",
     "text": [
      "No error found\n",
      "all done with operation\n",
      "9\n",
      "\n",
      "\n",
      "we found an error\n",
      "all done with operation\n",
      "None\n"
     ]
    }
   ],
   "source": [
    "\n",
    "def my_add(a,b):\n",
    "    try:\n",
    "        c = a + b\n",
    "        print('No error found')\n",
    "        return c\n",
    "    except:\n",
    "        print ('we found an error')\n",
    "    finally:\n",
    "        print ('all done with operation')\n",
    "    pass\n",
    "\n",
    "print(my_add(4,5))\n",
    "print(\"\\n\")\n",
    "print(my_add(8,'9'))"
   ]
  }
 ],
 "metadata": {
  "anaconda-cloud": {},
  "kernelspec": {
   "display_name": "Python 3",
   "language": "python",
   "name": "python3"
  },
  "language_info": {
   "codemirror_mode": {
    "name": "ipython",
    "version": 3
   },
   "file_extension": ".py",
   "mimetype": "text/x-python",
   "name": "python",
   "nbconvert_exporter": "python",
   "pygments_lexer": "ipython3",
   "version": "3.6.4"
  }
 },
 "nbformat": 4,
 "nbformat_minor": 2
}
